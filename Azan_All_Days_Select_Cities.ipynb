{
 "cells": [
  {
   "cell_type": "markdown",
   "metadata": {},
   "source": [
    "## This notebook will iterate over all days in the year to verify if the Azan occurs continuously at all times of the year."
   ]
  },
  {
   "cell_type": "code",
   "execution_count": null,
   "metadata": {
    "scrolled": true
   },
   "outputs": [],
   "source": [
    "import collections\n",
    "import datetime\n",
    "import numpy as np\n",
    "import os\n",
    "import pandas as pd\n",
    "import prayer_times\n",
    "import pytz"
   ]
  },
  {
   "cell_type": "code",
   "execution_count": null,
   "metadata": {
    "scrolled": true
   },
   "outputs": [],
   "source": [
    "# Prayer time calculation method.\n",
    "METHOD = 'Karachi'\n",
    "# Times at which less than this number of cities have azan will be saved for manual verification.\n",
    "MIN_CITIES_PER_TIME = 10\n",
    "NUM_DAYS_PER_YEAR = 365\n",
    "MINUTES_PER_DAY = 1440\n",
    "\n",
    "# CSV with city information from GeoNames\n",
    "cities_csv = ''\n",
    "# PEW Country population information.\n",
    "population_csv = ''\n",
    "\n",
    "# This should point to the CSV produced from the Azan_Kepler_Vis_One_Day notebook so we can use the filtered\n",
    "# list of cities to calculate times for.\n",
    "filtered_dir = '/home/suleman/projects/azan/Azan/data/'\n",
    "filtered_csv_name =  os.path.join(filtered_dir, 'populated_cities_karachi_filtered.csv')"
   ]
  },
  {
   "cell_type": "code",
   "execution_count": null,
   "metadata": {
    "scrolled": true
   },
   "outputs": [],
   "source": [
    "population_df =  pd.read_csv(population_csv)\n",
    "cities_df = pd.read_csv(cities_csv, encoding='ISO-8859-1')\n",
    "filtered_csv = pd.read_csv(filtered_csv_name)\n",
    "cities_to_evaluate = set(filtered_csv['ASCII Name'].unique())"
   ]
  },
  {
   "cell_type": "code",
   "execution_count": null,
   "metadata": {
    "scrolled": true
   },
   "outputs": [],
   "source": [
    "# Split Coordinates column into lat, long\n",
    "cities_df[['lat','lon']] = cities_df['Coordinates'].str.split(',',expand=True)\n",
    "# Return -1 where we don't have a population value.\n",
    "countries_to_population = collections.defaultdict(lambda: -1, zip(population_df['Country'], population_df['Muslims']))\n",
    "# Filter cities_df to only the valid cities that we want to evaluate.\n",
    "cities_df = cities_df[cities_df['ASCII Name'].isin(cities_to_evaluate)]\n",
    "cities_df = cities_df.reset_index()"
   ]
  },
  {
   "cell_type": "code",
   "execution_count": null,
   "metadata": {
    "scrolled": true
   },
   "outputs": [],
   "source": [
    "start_date = datetime.datetime(year=2021, month=1, day=1, hour=0, minute=0, tzinfo=pytz.UTC)\n",
    "prayer_names = ['fajr', 'dhuhr', 'asr', 'maghrib', 'isha']\n",
    "num_errors = 0\n",
    "num_correct = 0\n",
    "PT = prayer_times.PrayTimes(METHOD)\n",
    "\n",
    "invalid_rows = []\n",
    "for calc_date in (start_date + datetime.timedelta(days=n) for n in range(NUM_DAYS_PER_YEAR)):\n",
    "    time_to_city_ids = collections.defaultdict(list)\n",
    "    calc_date_string = datetime.datetime.strftime(calc_date, \"%Y-%m-%d\")\n",
    "    print(\"Calculating times for date: \", calc_date_string)\n",
    "    for index, input_row in cities_df.iterrows():\n",
    "        lat, lon =(float(input_row['lat']), float(input_row['lon']))\n",
    "        try:\n",
    "            p_times = PT.getTimes((calc_date.year,\n",
    "                                   calc_date.month,\n",
    "                                   calc_date.day), (lat, lon), 0)        \n",
    "            for prayer_name in prayer_names:\n",
    "                if p_times[prayer_name] == '-----':\n",
    "                    continue\n",
    "                else:\n",
    "                    prayer_time = datetime.datetime.strptime(p_times[prayer_name], '%H:%M')\n",
    "                    prayer_date_time = calc_date.replace(hour=prayer_time.hour, minute=prayer_time.minute)\n",
    "                    time_to_city_ids[prayer_date_time].append((input_row['Geoname ID']))\n",
    "\n",
    "            num_correct += 1                    \n",
    "        except ValueError as v:\n",
    "            num_errors += 1\n",
    "\n",
    "    # Check that EVERY minute of the day has some cities with valid prayer times.\n",
    "    minute_check_start_date = calc_date\n",
    "    for calc_minute in (minute_check_start_date + datetime.timedelta(minutes=n) for n in range(MINUTES_PER_DAY)):\n",
    "        if not(calc_minute in time_to_city_ids):\n",
    "            print(\"Empty time found!\")\n",
    "            invalid_rows.append({\"time\": calc_minute,\n",
    "                                 \"min_cities\": 0,\n",
    "                                 \"cities_in_min\": []})        \n",
    "        else:\n",
    "            cities = time_to_city_ids[calc_minute]   \n",
    "            num_cities = len(cities)\n",
    "            if num_cities < MIN_CITIES_PER_TIME:    \n",
    "                # print(\"Cities less than min specified: \", min_time, min_cities, cities_in_min)\n",
    "                invalid_rows.append({\"time\": calc_minute,\n",
    "                                     \"min_cities\": num_cities,\n",
    "                                     \"cities_in_min\": cities.copy()})                \n"
   ]
  },
  {
   "cell_type": "code",
   "execution_count": null,
   "metadata": {},
   "outputs": [],
   "source": [
    "# Output times with < MIN_CITIES_PER_TIME cities for manual eval.\n",
    "invalid_rows_csv =  os.path.join(filtered_dir, 'invalid_rows_all_year_round.csv')\n",
    "invalid_df = pd.DataFrame(invalid_rows)\n",
    "invalid_df.to_csv(invalid_rows_csv, index=False)"
   ]
  }
 ],
 "metadata": {
  "kernelspec": {
   "display_name": "Python 3 (ipykernel)",
   "language": "python",
   "name": "python3"
  },
  "language_info": {
   "codemirror_mode": {
    "name": "ipython",
    "version": 3
   },
   "file_extension": ".py",
   "mimetype": "text/x-python",
   "name": "python",
   "nbconvert_exporter": "python",
   "pygments_lexer": "ipython3",
   "version": "3.8.11"
  }
 },
 "nbformat": 4,
 "nbformat_minor": 4
}
