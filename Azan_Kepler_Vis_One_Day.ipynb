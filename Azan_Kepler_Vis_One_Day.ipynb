{
 "cells": [
  {
   "cell_type": "markdown",
   "metadata": {},
   "source": [
    "## Notebook to produce kepler.gl compatible CSV for visualization of Azan in select cities for a particular date. The cities_csv used is downloadable [here](https://public.opendatasoft.com/explore/dataset/geonames-all-cities-with-a-population-1000/table/?disjunctive.cou_name_en&sort=name) and the population_csv is downloadable [here](https://www.pewforum.org/2015/04/02/religious-projection-table/2020/percent/all/)"
   ]
  },
  {
   "cell_type": "code",
   "execution_count": null,
   "metadata": {},
   "outputs": [],
   "source": [
    "import collections\n",
    "import datetime\n",
    "import numpy as np\n",
    "import os\n",
    "import pandas as pd\n",
    "import prayer_times\n",
    "import pytz"
   ]
  },
  {
   "cell_type": "code",
   "execution_count": null,
   "metadata": {},
   "outputs": [],
   "source": [
    "# Prayer time calculation method.\n",
    "METHOD = 'Karachi'\n",
    "\n",
    "# Path to GeoNames CSV containing a list of cities with >1k population.\n",
    "cities_csv = ''\n",
    "# Path to PEW CSV containing a list of population stats for different counteis.\n",
    " = ''\n",
    "# Date we're visualizing.\n",
    "calc_date = datetime.datetime(year=2021, month=1, day=1, hour=0, minute=0, tzinfo=pytz.UTC)\n",
    "\n",
    "output_dir = ''\n",
    "unfiltered_csv_name = os.path.join(output_dir, 'populated_cities_karachi.csv')\n",
    "filtered_csv_name =  os.path.join(output_dir, 'populated_cities_karachi_filtered.csv')"
   ]
  },
  {
   "cell_type": "code",
   "execution_count": null,
   "metadata": {},
   "outputs": [],
   "source": [
    "population_df =  pd.read_csv(population_csv)\n",
    "cities_df = pd.read_csv(cities_csv, encoding='ISO-8859-1')\n",
    "\n",
    "# Split Coordinates column into lat, long\n",
    "cities_df[['lat','lon']] = cities_df['Coordinates'].str.split(',',expand=True)\n",
    "# Return -1 where we don't have a population value.\n",
    "countries_to_population = collections.defaultdict(lambda: -1, zip(population_df['Country'], population_df['Muslims']))"
   ]
  },
  {
   "cell_type": "code",
   "execution_count": null,
   "metadata": {},
   "outputs": [],
   "source": [
    "prayer_names = ['fajr', 'sunrise', 'dhuhr', 'asr', 'maghrib', 'sunset', 'isha']\n",
    "num_errors = 0\n",
    "num_correct = 0\n",
    "\n",
    "PT = prayer_times.PrayTimes(METHOD)\n",
    "\n",
    "output_rows = []\n",
    "for index, input_row in cities_df.iterrows():\n",
    "    lat, lon =(float(input_row['lat']), float(input_row['lon']))\n",
    "    try:\n",
    "        p_times = PT.getTimes((calc_date.year,\n",
    "                               calc_date.month,\n",
    "                               calc_date.day), (lat, lon), 0)        \n",
    "        for prayer_name in prayer_names:\n",
    "            if p_times[prayer_name] == '-----':\n",
    "                continue\n",
    "            else:\n",
    "                prayer_time = datetime.datetime.strptime(p_times[prayer_name], '%H:%M')\n",
    "                prayer_date_time = calculation_date.replace(hour=prayer_time.hour, minute=prayer_time.minute)\n",
    "                \n",
    "                output_row = input_row.to_dict()                \n",
    "                muslim_pop_percent = countries_to_population[input_row[\"Country name EN\"]]\n",
    "                additional_data = {\"time\": prayer_date_time,\n",
    "                                   \"str_time\": str(prayer_date_time),\n",
    "                                   \"event\": prayer_name,\n",
    "                                   \"muslim_percent\": muslim_pop_percent,\n",
    "                                   \"muslim_population\": int(muslim_pop_percent * input_row['Population'] /100)}\n",
    "                output_row.update(additional_data)\n",
    "                output_rows.append(output_row)\n",
    "\n",
    "        num_correct += 1                    \n",
    "    except ValueError as v:\n",
    "        num_errors += 1\n",
    "\n",
    "print(\"Errors: \", num_errors)\n",
    "print(\"Success: \", num_correct)"
   ]
  },
  {
   "cell_type": "code",
   "execution_count": null,
   "metadata": {},
   "outputs": [],
   "source": [
    "output_df = pd.DataFrame(output_rows)\n",
    "output_df.to_csv(unfiltered_csv_name, index=False)"
   ]
  },
  {
   "cell_type": "markdown",
   "metadata": {},
   "source": [
    "## The CSV produced above is for *all* cities, let's filter it based on our criteria."
   ]
  },
  {
   "cell_type": "code",
   "execution_count": null,
   "metadata": {},
   "outputs": [],
   "source": [
    "stats_df = pd.read_csv(unfiltered_csv_name)"
   ]
  },
  {
   "cell_type": "code",
   "execution_count": null,
   "metadata": {},
   "outputs": [],
   "source": [
    "# We look at places where either \n",
    "\n",
    "# 1. The muslim population > 1000 people.\n",
    "df_1k = stats_df[stats_df['muslim_population'] >= 1000]\n",
    "\n",
    "# 2. The population data of the city is unkown, *but* the  muslim population in the country > 50%\n",
    "df_mus_pop = stats_df[(stats_df['Population'] == 0) & (stats_df['muslim_percent'] >= 50)]\n",
    "\n",
    "# The two criteria are mutually exclusive since muslim_population is 0 where population is 0 so we can direclty merge\n",
    "# the two.\n",
    "filtered_df =  pd.concat([df_1k, df_mus_pop], ignore_index=True, sort=False)\n",
    "\n",
    "# If the muslim population in a country <= 1%, we only count cities with more than 1M residents.\n",
    "filtered_df = filtered_df[(filtered_df['muslim_percent'] > 1) | (filtered_df['Population'] > 1000000)]"
   ]
  },
  {
   "cell_type": "code",
   "execution_count": null,
   "metadata": {},
   "outputs": [],
   "source": [
    "# This is the final filtered CSV we visualize in kepler.gl\n",
    "filtered_df.to_csv(filtered_csv_name, index=False)"
   ]
  }
 ],
 "metadata": {
  "kernelspec": {
   "display_name": "Python 3 (ipykernel)",
   "language": "python",
   "name": "python3"
  },
  "language_info": {
   "codemirror_mode": {
    "name": "ipython",
    "version": 3
   },
   "file_extension": ".py",
   "mimetype": "text/x-python",
   "name": "python",
   "nbconvert_exporter": "python",
   "pygments_lexer": "ipython3",
   "version": "3.8.11"
  }
 },
 "nbformat": 4,
 "nbformat_minor": 4
}
